{
 "cells": [
  {
   "cell_type": "markdown",
   "metadata": {},
   "source": [
    "# A Walk Through Forpus\n",
    "\n",
    "[Forpus](https://severinsimmler.github.io/forpus) is a Python library for processing plain text corpora to various corpus formats. In most cases, each NLP tool uses its own idiosyncratic input format. This library helps you to convert a corpus very easy to the desired format.\n",
    "\n",
    "To install Forpus, run the following command in your command-line:\n",
    "\n",
    "```bash\n",
    "pip install forpus\n",
    "```\n",
    "\n",
    "You will need a directory containing `.txt` files."
   ]
  },
  {
   "cell_type": "code",
   "execution_count": 1,
   "metadata": {},
   "outputs": [],
   "source": [
    "try:\n",
    "    from forpus import forpus\n",
    "except ModuleNotFoundError:\n",
    "    import sys\n",
    "    from pathlib import Path\n",
    "    sys.path.insert(0, str(Path('.').absolute().parent))\n",
    "    from forpus import forpus"
   ]
  },
  {
   "cell_type": "markdown",
   "metadata": {},
   "source": [
    "## 1. Constructing the base class"
   ]
  },
  {
   "cell_type": "code",
   "execution_count": 12,
   "metadata": {},
   "outputs": [],
   "source": [
    "SOURCE = Path('..', 'corpus')\n",
    "FNAME_PATTERN = '{author}_{title}'"
   ]
  },
  {
   "cell_type": "code",
   "execution_count": 13,
   "metadata": {},
   "outputs": [],
   "source": [
    "Corpus = forpus.Corpus(source=SOURCE,\n",
    "                       target=Path('json'),\n",
    "                       fname_pattern=FNAME_PATTERN)"
   ]
  },
  {
   "cell_type": "code",
   "execution_count": 14,
   "metadata": {},
   "outputs": [],
   "source": [
    "Corpus.to_json()"
   ]
  },
  {
   "cell_type": "code",
   "execution_count": 18,
   "metadata": {},
   "outputs": [
    {
     "name": "stdout",
     "output_type": "stream",
     "text": [
      "{'mary_doc3': {'author': 'mary', 'title': 'doc3', 'text': 'Mary has written the third and last document, but this is also pretty nice.\\n'}, 'peter_doc1': {'author': 'peter', 'title': 'doc1', 'text': \"This is the first document. It's written by Peter. And it contains a lot of words.\\n\"}, 'paul_doc2': {'author': 'paul', 'title': 'doc2', 'text': 'There is also a second document. This one is by Paul. Furthermore, this also contains a lot of tokens.\\n'}}\n"
     ]
    }
   ],
   "source": [
    "with open(Path(TARGET, 'corpus.json'), 'r', encoding='utf-8') as file:\n",
    "    print(json.load(file))"
   ]
  },
  {
   "cell_type": "code",
   "execution_count": 17,
   "metadata": {},
   "outputs": [
    {
     "data": {
      "text/plain": [
       "{'mary_doc3': {'author': 'mary',\n",
       "  'text': 'Mary has written the third and last document, but this is also pretty nice.\\n',\n",
       "  'title': 'doc3'},\n",
       " 'paul_doc2': {'author': 'paul',\n",
       "  'text': 'There is also a second document. This one is by Paul. Furthermore, this also contains a lot of tokens.\\n',\n",
       "  'title': 'doc2'},\n",
       " 'peter_doc1': {'author': 'peter',\n",
       "  'text': \"This is the first document. It's written by Peter. And it contains a lot of words.\\n\",\n",
       "  'title': 'doc1'}}"
      ]
     },
     "execution_count": 17,
     "metadata": {},
     "output_type": "execute_result"
    }
   ],
   "source": [
    "corpus"
   ]
  },
  {
   "cell_type": "code",
   "execution_count": null,
   "metadata": {},
   "outputs": [],
   "source": []
  }
 ],
 "metadata": {
  "kernelspec": {
   "display_name": "Python 3",
   "language": "python",
   "name": "python3"
  },
  "language_info": {
   "codemirror_mode": {
    "name": "ipython",
    "version": 3
   },
   "file_extension": ".py",
   "mimetype": "text/x-python",
   "name": "python",
   "nbconvert_exporter": "python",
   "pygments_lexer": "ipython3",
   "version": "3.6.3"
  }
 },
 "nbformat": 4,
 "nbformat_minor": 2
}
